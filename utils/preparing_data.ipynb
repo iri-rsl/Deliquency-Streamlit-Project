{
 "cells": [
  {
   "cell_type": "markdown",
   "id": "b80aa058",
   "metadata": {},
   "source": [
    "# Preparing data for analysis and visualization"
   ]
  },
  {
   "cell_type": "markdown",
   "id": "46d0d849",
   "metadata": {},
   "source": [
    "## Getting the data"
   ]
  },
  {
   "cell_type": "code",
   "execution_count": 1,
   "id": "221531ba",
   "metadata": {},
   "outputs": [],
   "source": [
    "# Importing necessary libraries\n",
    "import pandas as pd\n",
    "import os\n",
    "import missingno as msno\n",
    "import matplotlib.pyplot as plt\n",
    "import numpy as np\n",
    "import seaborn as sns\n",
    "import folium\n",
    "import plotly.express as px"
   ]
  },
  {
   "cell_type": "code",
   "execution_count": 2,
   "id": "036a6c64",
   "metadata": {},
   "outputs": [
    {
     "name": "stdout",
     "output_type": "stream",
     "text": [
      "Shape of data: (16362, 11)\n",
      "Columns in data: ['Code_departement', 'Code_region', 'annee', 'indicateur', 'unite_de_compte', 'nombre', 'taux_pour_mille', 'insee_pop', 'insee_pop_millesime', 'insee_log', 'insee_log_millesime']\n"
     ]
    }
   ],
   "source": [
    "# Getting the data\n",
    "try:\n",
    "    project_root = os.path.abspath(os.path.join(os.path.dirname(__file__), '..'))\n",
    "except NameError:\n",
    "    project_root = os.path.abspath('..')\n",
    "\n",
    "resource_path = os.path.join(project_root, 'data')\n",
    "\n",
    "data = pd.read_csv(os.path.join(resource_path, 'delinquency.csv'), sep=\";\")\n",
    "\n",
    "print(\"Shape of data:\", data.shape)\n",
    "print(\"Columns in data:\", data.columns.tolist())"
   ]
  },
  {
   "cell_type": "markdown",
   "id": "8ad20cb4",
   "metadata": {},
   "source": [
    "## Exploring the data"
   ]
  },
  {
   "cell_type": "code",
   "execution_count": 3,
   "id": "825c94ef",
   "metadata": {},
   "outputs": [
    {
     "data": {
      "text/html": [
       "<div>\n",
       "<style scoped>\n",
       "    .dataframe tbody tr th:only-of-type {\n",
       "        vertical-align: middle;\n",
       "    }\n",
       "\n",
       "    .dataframe tbody tr th {\n",
       "        vertical-align: top;\n",
       "    }\n",
       "\n",
       "    .dataframe thead th {\n",
       "        text-align: right;\n",
       "    }\n",
       "</style>\n",
       "<table border=\"1\" class=\"dataframe\">\n",
       "  <thead>\n",
       "    <tr style=\"text-align: right;\">\n",
       "      <th></th>\n",
       "      <th>Code_departement</th>\n",
       "      <th>Code_region</th>\n",
       "      <th>annee</th>\n",
       "      <th>indicateur</th>\n",
       "      <th>unite_de_compte</th>\n",
       "      <th>nombre</th>\n",
       "      <th>taux_pour_mille</th>\n",
       "      <th>insee_pop</th>\n",
       "      <th>insee_pop_millesime</th>\n",
       "      <th>insee_log</th>\n",
       "      <th>insee_log_millesime</th>\n",
       "    </tr>\n",
       "  </thead>\n",
       "  <tbody>\n",
       "    <tr>\n",
       "      <th>0</th>\n",
       "      <td>01</td>\n",
       "      <td>84</td>\n",
       "      <td>2016</td>\n",
       "      <td>Homicides</td>\n",
       "      <td>Victime</td>\n",
       "      <td>5</td>\n",
       "      <td>0,0078318</td>\n",
       "      <td>638425</td>\n",
       "      <td>2016</td>\n",
       "      <td>308491</td>\n",
       "      <td>2016</td>\n",
       "    </tr>\n",
       "    <tr>\n",
       "      <th>1</th>\n",
       "      <td>02</td>\n",
       "      <td>32</td>\n",
       "      <td>2016</td>\n",
       "      <td>Homicides</td>\n",
       "      <td>Victime</td>\n",
       "      <td>10</td>\n",
       "      <td>0,0186520</td>\n",
       "      <td>536136</td>\n",
       "      <td>2016</td>\n",
       "      <td>264180</td>\n",
       "      <td>2016</td>\n",
       "    </tr>\n",
       "    <tr>\n",
       "      <th>2</th>\n",
       "      <td>03</td>\n",
       "      <td>84</td>\n",
       "      <td>2016</td>\n",
       "      <td>Homicides</td>\n",
       "      <td>Victime</td>\n",
       "      <td>4</td>\n",
       "      <td>0,0117861</td>\n",
       "      <td>339384</td>\n",
       "      <td>2016</td>\n",
       "      <td>206980</td>\n",
       "      <td>2016</td>\n",
       "    </tr>\n",
       "    <tr>\n",
       "      <th>3</th>\n",
       "      <td>04</td>\n",
       "      <td>93</td>\n",
       "      <td>2016</td>\n",
       "      <td>Homicides</td>\n",
       "      <td>Victime</td>\n",
       "      <td>2</td>\n",
       "      <td>0,0123028</td>\n",
       "      <td>162565</td>\n",
       "      <td>2016</td>\n",
       "      <td>126760</td>\n",
       "      <td>2016</td>\n",
       "    </tr>\n",
       "    <tr>\n",
       "      <th>4</th>\n",
       "      <td>05</td>\n",
       "      <td>93</td>\n",
       "      <td>2016</td>\n",
       "      <td>Homicides</td>\n",
       "      <td>Victime</td>\n",
       "      <td>0</td>\n",
       "      <td>0,0000000</td>\n",
       "      <td>141107</td>\n",
       "      <td>2016</td>\n",
       "      <td>134647</td>\n",
       "      <td>2016</td>\n",
       "    </tr>\n",
       "  </tbody>\n",
       "</table>\n",
       "</div>"
      ],
      "text/plain": [
       "  Code_departement  Code_region  annee indicateur unite_de_compte  nombre  \\\n",
       "0               01           84   2016  Homicides         Victime       5   \n",
       "1               02           32   2016  Homicides         Victime      10   \n",
       "2               03           84   2016  Homicides         Victime       4   \n",
       "3               04           93   2016  Homicides         Victime       2   \n",
       "4               05           93   2016  Homicides         Victime       0   \n",
       "\n",
       "  taux_pour_mille  insee_pop  insee_pop_millesime  insee_log  \\\n",
       "0       0,0078318     638425                 2016     308491   \n",
       "1       0,0186520     536136                 2016     264180   \n",
       "2       0,0117861     339384                 2016     206980   \n",
       "3       0,0123028     162565                 2016     126760   \n",
       "4       0,0000000     141107                 2016     134647   \n",
       "\n",
       "   insee_log_millesime  \n",
       "0                 2016  \n",
       "1                 2016  \n",
       "2                 2016  \n",
       "3                 2016  \n",
       "4                 2016  "
      ]
     },
     "execution_count": 3,
     "metadata": {},
     "output_type": "execute_result"
    }
   ],
   "source": [
    "data.head()"
   ]
  },
  {
   "cell_type": "code",
   "execution_count": 4,
   "id": "20a83d66",
   "metadata": {},
   "outputs": [
    {
     "data": {
      "text/html": [
       "<div>\n",
       "<style scoped>\n",
       "    .dataframe tbody tr th:only-of-type {\n",
       "        vertical-align: middle;\n",
       "    }\n",
       "\n",
       "    .dataframe tbody tr th {\n",
       "        vertical-align: top;\n",
       "    }\n",
       "\n",
       "    .dataframe thead th {\n",
       "        text-align: right;\n",
       "    }\n",
       "</style>\n",
       "<table border=\"1\" class=\"dataframe\">\n",
       "  <thead>\n",
       "    <tr style=\"text-align: right;\">\n",
       "      <th></th>\n",
       "      <th>Code_departement</th>\n",
       "      <th>Code_region</th>\n",
       "      <th>annee</th>\n",
       "      <th>indicateur</th>\n",
       "      <th>unite_de_compte</th>\n",
       "      <th>nombre</th>\n",
       "      <th>taux_pour_mille</th>\n",
       "      <th>insee_pop</th>\n",
       "      <th>insee_pop_millesime</th>\n",
       "      <th>insee_log</th>\n",
       "      <th>insee_log_millesime</th>\n",
       "    </tr>\n",
       "  </thead>\n",
       "  <tbody>\n",
       "    <tr>\n",
       "      <th>16357</th>\n",
       "      <td>971</td>\n",
       "      <td>1</td>\n",
       "      <td>2024</td>\n",
       "      <td>Escroqueries et fraudes aux moyens de paiement</td>\n",
       "      <td>Victime</td>\n",
       "      <td>1544</td>\n",
       "      <td>4,0253514</td>\n",
       "      <td>383569</td>\n",
       "      <td>2022</td>\n",
       "      <td>235968</td>\n",
       "      <td>2021</td>\n",
       "    </tr>\n",
       "    <tr>\n",
       "      <th>16358</th>\n",
       "      <td>972</td>\n",
       "      <td>2</td>\n",
       "      <td>2024</td>\n",
       "      <td>Escroqueries et fraudes aux moyens de paiement</td>\n",
       "      <td>Victime</td>\n",
       "      <td>1518</td>\n",
       "      <td>4,2047648</td>\n",
       "      <td>361019</td>\n",
       "      <td>2022</td>\n",
       "      <td>218565</td>\n",
       "      <td>2021</td>\n",
       "    </tr>\n",
       "    <tr>\n",
       "      <th>16359</th>\n",
       "      <td>973</td>\n",
       "      <td>3</td>\n",
       "      <td>2024</td>\n",
       "      <td>Escroqueries et fraudes aux moyens de paiement</td>\n",
       "      <td>Victime</td>\n",
       "      <td>693</td>\n",
       "      <td>2,4030626</td>\n",
       "      <td>288382</td>\n",
       "      <td>2022</td>\n",
       "      <td>98634</td>\n",
       "      <td>2021</td>\n",
       "    </tr>\n",
       "    <tr>\n",
       "      <th>16360</th>\n",
       "      <td>974</td>\n",
       "      <td>4</td>\n",
       "      <td>2024</td>\n",
       "      <td>Escroqueries et fraudes aux moyens de paiement</td>\n",
       "      <td>Victime</td>\n",
       "      <td>2741</td>\n",
       "      <td>3,1100088</td>\n",
       "      <td>881348</td>\n",
       "      <td>2022</td>\n",
       "      <td>395388</td>\n",
       "      <td>2021</td>\n",
       "    </tr>\n",
       "    <tr>\n",
       "      <th>16361</th>\n",
       "      <td>976</td>\n",
       "      <td>6</td>\n",
       "      <td>2024</td>\n",
       "      <td>Escroqueries et fraudes aux moyens de paiement</td>\n",
       "      <td>Victime</td>\n",
       "      <td>455</td>\n",
       "      <td>1,7737547</td>\n",
       "      <td>256518</td>\n",
       "      <td>2017</td>\n",
       "      <td>73880</td>\n",
       "      <td>2017</td>\n",
       "    </tr>\n",
       "  </tbody>\n",
       "</table>\n",
       "</div>"
      ],
      "text/plain": [
       "      Code_departement  Code_region  annee  \\\n",
       "16357              971            1   2024   \n",
       "16358              972            2   2024   \n",
       "16359              973            3   2024   \n",
       "16360              974            4   2024   \n",
       "16361              976            6   2024   \n",
       "\n",
       "                                           indicateur unite_de_compte  nombre  \\\n",
       "16357  Escroqueries et fraudes aux moyens de paiement         Victime    1544   \n",
       "16358  Escroqueries et fraudes aux moyens de paiement         Victime    1518   \n",
       "16359  Escroqueries et fraudes aux moyens de paiement         Victime     693   \n",
       "16360  Escroqueries et fraudes aux moyens de paiement         Victime    2741   \n",
       "16361  Escroqueries et fraudes aux moyens de paiement         Victime     455   \n",
       "\n",
       "      taux_pour_mille  insee_pop  insee_pop_millesime  insee_log  \\\n",
       "16357       4,0253514     383569                 2022     235968   \n",
       "16358       4,2047648     361019                 2022     218565   \n",
       "16359       2,4030626     288382                 2022      98634   \n",
       "16360       3,1100088     881348                 2022     395388   \n",
       "16361       1,7737547     256518                 2017      73880   \n",
       "\n",
       "       insee_log_millesime  \n",
       "16357                 2021  \n",
       "16358                 2021  \n",
       "16359                 2021  \n",
       "16360                 2021  \n",
       "16361                 2017  "
      ]
     },
     "execution_count": 4,
     "metadata": {},
     "output_type": "execute_result"
    }
   ],
   "source": [
    "data.tail()"
   ]
  },
  {
   "cell_type": "code",
   "execution_count": 5,
   "id": "1d64d7e5",
   "metadata": {},
   "outputs": [
    {
     "data": {
      "text/html": [
       "<div>\n",
       "<style scoped>\n",
       "    .dataframe tbody tr th:only-of-type {\n",
       "        vertical-align: middle;\n",
       "    }\n",
       "\n",
       "    .dataframe tbody tr th {\n",
       "        vertical-align: top;\n",
       "    }\n",
       "\n",
       "    .dataframe thead th {\n",
       "        text-align: right;\n",
       "    }\n",
       "</style>\n",
       "<table border=\"1\" class=\"dataframe\">\n",
       "  <thead>\n",
       "    <tr style=\"text-align: right;\">\n",
       "      <th></th>\n",
       "      <th>Code_region</th>\n",
       "      <th>annee</th>\n",
       "      <th>nombre</th>\n",
       "      <th>insee_pop</th>\n",
       "      <th>insee_pop_millesime</th>\n",
       "      <th>insee_log</th>\n",
       "      <th>insee_log_millesime</th>\n",
       "    </tr>\n",
       "  </thead>\n",
       "  <tbody>\n",
       "    <tr>\n",
       "      <th>count</th>\n",
       "      <td>16362.000000</td>\n",
       "      <td>16362.000000</td>\n",
       "      <td>16362.000000</td>\n",
       "      <td>1.636200e+04</td>\n",
       "      <td>16362.000000</td>\n",
       "      <td>1.636200e+04</td>\n",
       "      <td>16362.000000</td>\n",
       "    </tr>\n",
       "    <tr>\n",
       "      <th>mean</th>\n",
       "      <td>52.653465</td>\n",
       "      <td>2020.000000</td>\n",
       "      <td>1794.079086</td>\n",
       "      <td>6.675110e+05</td>\n",
       "      <td>2019.640264</td>\n",
       "      <td>3.633068e+05</td>\n",
       "      <td>2019.310231</td>\n",
       "    </tr>\n",
       "    <tr>\n",
       "      <th>std</th>\n",
       "      <td>28.196232</td>\n",
       "      <td>2.582068</td>\n",
       "      <td>4238.287726</td>\n",
       "      <td>5.115253e+05</td>\n",
       "      <td>2.165747</td>\n",
       "      <td>2.603788e+05</td>\n",
       "      <td>1.831367</td>\n",
       "    </tr>\n",
       "    <tr>\n",
       "      <th>min</th>\n",
       "      <td>1.000000</td>\n",
       "      <td>2016.000000</td>\n",
       "      <td>0.000000</td>\n",
       "      <td>7.642200e+04</td>\n",
       "      <td>2016.000000</td>\n",
       "      <td>6.039500e+04</td>\n",
       "      <td>2016.000000</td>\n",
       "    </tr>\n",
       "    <tr>\n",
       "      <th>25%</th>\n",
       "      <td>27.000000</td>\n",
       "      <td>2018.000000</td>\n",
       "      <td>157.000000</td>\n",
       "      <td>2.833720e+05</td>\n",
       "      <td>2018.000000</td>\n",
       "      <td>1.651150e+05</td>\n",
       "      <td>2018.000000</td>\n",
       "    </tr>\n",
       "    <tr>\n",
       "      <th>50%</th>\n",
       "      <td>52.000000</td>\n",
       "      <td>2020.000000</td>\n",
       "      <td>690.000000</td>\n",
       "      <td>5.293740e+05</td>\n",
       "      <td>2020.000000</td>\n",
       "      <td>2.951090e+05</td>\n",
       "      <td>2020.000000</td>\n",
       "    </tr>\n",
       "    <tr>\n",
       "      <th>75%</th>\n",
       "      <td>76.000000</td>\n",
       "      <td>2022.000000</td>\n",
       "      <td>1861.750000</td>\n",
       "      <td>8.495830e+05</td>\n",
       "      <td>2022.000000</td>\n",
       "      <td>4.816820e+05</td>\n",
       "      <td>2021.000000</td>\n",
       "    </tr>\n",
       "    <tr>\n",
       "      <th>max</th>\n",
       "      <td>94.000000</td>\n",
       "      <td>2024.000000</td>\n",
       "      <td>162378.000000</td>\n",
       "      <td>2.616909e+06</td>\n",
       "      <td>2022.000000</td>\n",
       "      <td>1.396753e+06</td>\n",
       "      <td>2021.000000</td>\n",
       "    </tr>\n",
       "  </tbody>\n",
       "</table>\n",
       "</div>"
      ],
      "text/plain": [
       "        Code_region         annee         nombre     insee_pop  \\\n",
       "count  16362.000000  16362.000000   16362.000000  1.636200e+04   \n",
       "mean      52.653465   2020.000000    1794.079086  6.675110e+05   \n",
       "std       28.196232      2.582068    4238.287726  5.115253e+05   \n",
       "min        1.000000   2016.000000       0.000000  7.642200e+04   \n",
       "25%       27.000000   2018.000000     157.000000  2.833720e+05   \n",
       "50%       52.000000   2020.000000     690.000000  5.293740e+05   \n",
       "75%       76.000000   2022.000000    1861.750000  8.495830e+05   \n",
       "max       94.000000   2024.000000  162378.000000  2.616909e+06   \n",
       "\n",
       "       insee_pop_millesime     insee_log  insee_log_millesime  \n",
       "count         16362.000000  1.636200e+04         16362.000000  \n",
       "mean           2019.640264  3.633068e+05          2019.310231  \n",
       "std               2.165747  2.603788e+05             1.831367  \n",
       "min            2016.000000  6.039500e+04          2016.000000  \n",
       "25%            2018.000000  1.651150e+05          2018.000000  \n",
       "50%            2020.000000  2.951090e+05          2020.000000  \n",
       "75%            2022.000000  4.816820e+05          2021.000000  \n",
       "max            2022.000000  1.396753e+06          2021.000000  "
      ]
     },
     "execution_count": 5,
     "metadata": {},
     "output_type": "execute_result"
    }
   ],
   "source": [
    "data.describe()"
   ]
  },
  {
   "cell_type": "code",
   "execution_count": 6,
   "id": "7b6b28d9",
   "metadata": {},
   "outputs": [
    {
     "name": "stdout",
     "output_type": "stream",
     "text": [
      "<class 'pandas.core.frame.DataFrame'>\n",
      "RangeIndex: 16362 entries, 0 to 16361\n",
      "Data columns (total 11 columns):\n",
      " #   Column               Non-Null Count  Dtype \n",
      "---  ------               --------------  ----- \n",
      " 0   Code_departement     16362 non-null  object\n",
      " 1   Code_region          16362 non-null  int64 \n",
      " 2   annee                16362 non-null  int64 \n",
      " 3   indicateur           16362 non-null  object\n",
      " 4   unite_de_compte      16362 non-null  object\n",
      " 5   nombre               16362 non-null  int64 \n",
      " 6   taux_pour_mille      16362 non-null  object\n",
      " 7   insee_pop            16362 non-null  int64 \n",
      " 8   insee_pop_millesime  16362 non-null  int64 \n",
      " 9   insee_log            16362 non-null  int64 \n",
      " 10  insee_log_millesime  16362 non-null  int64 \n",
      "dtypes: int64(7), object(4)\n",
      "memory usage: 1.4+ MB\n"
     ]
    }
   ],
   "source": [
    "data.info()"
   ]
  },
  {
   "cell_type": "markdown",
   "id": "79a755f0",
   "metadata": {},
   "source": [
    "## Cleaning and preparing the data"
   ]
  },
  {
   "cell_type": "code",
   "execution_count": 7,
   "id": "8d88942b",
   "metadata": {},
   "outputs": [
    {
     "data": {
      "text/plain": [
       "count    16362.000000\n",
       "mean         2.428904\n",
       "std          2.882800\n",
       "min          0.000000\n",
       "25%          0.430260\n",
       "50%          1.644364\n",
       "75%          3.337708\n",
       "max         74.986735\n",
       "Name: taux_pour_mille_numeric, dtype: float64"
      ]
     },
     "execution_count": 7,
     "metadata": {},
     "output_type": "execute_result"
    }
   ],
   "source": [
    "# Change the feature taux_pour_mille to numeric\n",
    "data['taux_pour_mille_numeric'] = data['taux_pour_mille'].str.replace(',', '.').astype(float)\n",
    "data['taux_pour_mille_numeric'].describe()"
   ]
  },
  {
   "cell_type": "code",
   "execution_count": 8,
   "id": "ce20ee8f",
   "metadata": {},
   "outputs": [
    {
     "data": {
      "text/plain": [
       "Text(0.5, 1.0, 'Missing values in the dataset')"
      ]
     },
     "execution_count": 8,
     "metadata": {},
     "output_type": "execute_result"
    },
    {
     "data": {
      "image/png": "[encoded data removed]",
      "text/plain": [
       "<Figure size 1000x600 with 2 Axes>"
      ]
     },
     "metadata": {},
     "output_type": "display_data"
    }
   ],
   "source": [
    "msno.matrix(data, figsize=(10,6)).set_title('Missing values in the dataset', fontsize=16)"
   ]
  },
  {
   "cell_type": "code",
   "execution_count": 9,
   "id": "19884cee",
   "metadata": {},
   "outputs": [
    {
     "data": {
      "application/vnd.plotly.v1+json": {
       "config": {
        "plotlyServerURL": "https://plot.ly"
       },
       "data": [
        {
         "hovertemplate": "column=%{x}<br>Fraction Missing=%{y}<extra></extra>",
         "legendgroup": "",
         "marker": {
          "color": "#636efa",
          "pattern": {
           "shape": ""
          }
         },
         "name": "",
         "orientation": "v",
         "showlegend": false,
         "textposition": "auto",
         "type": "bar",
         "x": [
          "Code_departement",
          "Code_region",
          "annee",
          "indicateur",
          "unite_de_compte",
          "nombre",
          "taux_pour_mille",
          "insee_pop",
          "insee_pop_millesime",
          "insee_log",
          "insee_log_millesime",
          "taux_pour_mille_numeric"
         ],
         "xaxis": "x",
         "y": {
          "bdata": "AAAAAAAAAAAAAAAAAAAAAAAAAAAAAAAAAAAAAAAAAAAAAAAAAAAAAAAAAAAAAAAAAAAAAAAAAAAAAAAAAAAAAAAAAAAAAAAAAAAAAAAAAAAAAAAAAAAAAAAAAAAAAAAA",
          "dtype": "f8"
         },
         "yaxis": "y"
        }
       ],
       "layout": {
        "barmode": "relative",
        "legend": {
         "tracegroupgap": 0
        },
        "template": {
         "data": {
          "bar": [
           {
            "error_x": {
             "color": "#2a3f5f"
            },
            "error_y": {
             "color": "#2a3f5f"
            },
            "marker": {
             "line": {
              "color": "#E5ECF6",
              "width": 0.5
             },
             "pattern": {
              "fillmode": "overlay",
              "size": 10,
              "solidity": 0.2
             }
            },
            "type": "bar"
           }
          ],
          "barpolar": [
           {
            "marker": {
             "line": {
              "color": "#E5ECF6",
              "width": 0.5
             },
             "pattern": {
              "fillmode": "overlay",
              "size": 10,
              "solidity": 0.2
             }
            },
            "type": "barpolar"
           }
          ],
          "carpet": [
           {
            "aaxis": {
             "endlinecolor": "#2a3f5f",
             "gridcolor": "white",
             "linecolor": "white",
             "minorgridcolor": "white",
             "startlinecolor": "#2a3f5f"
            },
            "baxis": {
             "endlinecolor": "#2a3f5f",
             "gridcolor": "white",
             "linecolor": "white",
             "minorgridcolor": "white",
             "startlinecolor": "#2a3f5f"
            },
            "type": "carpet"
           }
          ],
          "choropleth": [
           {
            "colorbar": {
             "outlinewidth": 0,
             "ticks": ""
            },
            "type": "choropleth"
           }
          ],
          "contour": [
           {
            "colorbar": {
             "outlinewidth": 0,
             "ticks": ""
            },
            "colorscale": [
             [
              0,
              "#0d0887"
             ],
             [
              0.1111111111111111,
              "#46039f"
             ],
             [
              0.2222222222222222,
              "#7201a8"
             ],
             [
              0.3333333333333333,
              "#9c179e"
             ],
             [
              0.4444444444444444,
              "#bd3786"
             ],
             [
              0.5555555555555556,
              "#d8576b"
             ],
             [
              0.6666666666666666,
              "#ed7953"
             ],
             [
              0.7777777777777778,
              "#fb9f3a"
             ],
             [
              0.8888888888888888,
              "#fdca26"
             ],
             [
              1,
              "#f0f921"
             ]
            ],
            "type": "contour"
           }
          ],
          "contourcarpet": [
           {
            "colorbar": {
             "outlinewidth": 0,
             "ticks": ""
            },
            "type": "contourcarpet"
           }
          ],
          "heatmap": [
           {
            "colorbar": {
             "outlinewidth": 0,
             "ticks": ""
            },
            "colorscale": [
             [
              0,
              "#0d0887"
             ],
             [
              0.1111111111111111,
              "#46039f"
             ],
             [
              0.2222222222222222,
              "#7201a8"
             ],
             [
              0.3333333333333333,
              "#9c179e"
             ],
             [
              0.4444444444444444,
              "#bd3786"
             ],
             [
              0.5555555555555556,
              "#d8576b"
             ],
             [
              0.6666666666666666,
              "#ed7953"
             ],
             [
              0.7777777777777778,
              "#fb9f3a"
             ],
             [
              0.8888888888888888,
              "#fdca26"
             ],
             [
              1,
              "#f0f921"
             ]
            ],
            "type": "heatmap"
           }
          ],
          "histogram": [
           {
            "marker": {
             "pattern": {
              "fillmode": "overlay",
              "size": 10,
              "solidity": 0.2
             }
            },
            "type": "histogram"
           }
          ],
          "histogram2d": [
           {
            "colorbar": {
             "outlinewidth": 0,
             "ticks": ""
            },
            "colorscale": [
             [
              0,
              "#0d0887"
             ],
             [
              0.1111111111111111,
              "#46039f"
             ],
             [
              0.2222222222222222,
              "#7201a8"
             ],
             [
              0.3333333333333333,
              "#9c179e"
             ],
             [
              0.4444444444444444,
              "#bd3786"
             ],
             [
              0.5555555555555556,
              "#d8576b"
             ],
             [
              0.6666666666666666,
              "#ed7953"
             ],
             [
              0.7777777777777778,
              "#fb9f3a"
             ],
             [
              0.8888888888888888,
              "#fdca26"
             ],
             [
              1,
              "#f0f921"
             ]
            ],
            "type": "histogram2d"
           }
          ],
          "histogram2dcontour": [
           {
            "colorbar": {
             "outlinewidth": 0,
             "ticks": ""
            },
            "colorscale": [
             [
              0,
              "#0d0887"
             ],
             [
              0.1111111111111111,
              "#46039f"
             ],
             [
              0.2222222222222222,
              "#7201a8"
             ],
             [
              0.3333333333333333,
              "#9c179e"
             ],
             [
              0.4444444444444444,
              "#bd3786"
             ],
             [
              0.5555555555555556,
              "#d8576b"
             ],
             [
              0.6666666666666666,
              "#ed7953"
             ],
             [
              0.7777777777777778,
              "#fb9f3a"
             ],
             [
              0.8888888888888888,
              "#fdca26"
             ],
             [
              1,
              "#f0f921"
             ]
            ],
            "type": "histogram2dcontour"
           }
          ],
          "mesh3d": [
           {
            "colorbar": {
             "outlinewidth": 0,
             "ticks": ""
            },
            "type": "mesh3d"
           }
          ],
          "parcoords": [
           {
            "line": {
             "colorbar": {
              "outlinewidth": 0,
              "ticks": ""
             }
            },
            "type": "parcoords"
           }
          ],
          "pie": [
           {
            "automargin": true,
            "type": "pie"
           }
          ],
          "scatter": [
           {
            "fillpattern": {
             "fillmode": "overlay",
             "size": 10,
             "solidity": 0.2
            },
            "type": "scatter"
           }
          ],
          "scatter3d": [
           {
            "line": {
             "colorbar": {
              "outlinewidth": 0,
              "ticks": ""
             }
            },
            "marker": {
             "colorbar": {
              "outlinewidth": 0,
              "ticks": ""
             }
            },
            "type": "scatter3d"
           }
          ],
          "scattercarpet": [
           {
            "marker": {
             "colorbar": {
              "outlinewidth": 0,
              "ticks": ""
             }
            },
            "type": "scattercarpet"
           }
          ],
          "scattergeo": [
           {
            "marker": {
             "colorbar": {
              "outlinewidth": 0,
              "ticks": ""
             }
            },
            "type": "scattergeo"
           }
          ],
          "scattergl": [
           {
            "marker": {
             "colorbar": {
              "outlinewidth": 0,
              "ticks": ""
             }
            },
            "type": "scattergl"
           }
          ],
          "scattermap": [
           {
            "marker": {
             "colorbar": {
              "outlinewidth": 0,
              "ticks": ""
             }
            },
            "type": "scattermap"
           }
          ],
          "scattermapbox": [
           {
            "marker": {
             "colorbar": {
              "outlinewidth": 0,
              "ticks": ""
             }
            },
            "type": "scattermapbox"
           }
          ],
          "scatterpolar": [
           {
            "marker": {
             "colorbar": {
              "outlinewidth": 0,
              "ticks": ""
             }
            },
            "type": "scatterpolar"
           }
          ],
          "scatterpolargl": [
           {
            "marker": {
             "colorbar": {
              "outlinewidth": 0,
              "ticks": ""
             }
            },
            "type": "scatterpolargl"
           }
          ],
          "scatterternary": [
           {
            "marker": {
             "colorbar": {
              "outlinewidth": 0,
              "ticks": ""
             }
            },
            "type": "scatterternary"
           }
          ],
          "surface": [
           {
            "colorbar": {
             "outlinewidth": 0,
             "ticks": ""
            },
            "colorscale": [
             [
              0,
              "#0d0887"
             ],
             [
              0.1111111111111111,
              "#46039f"
             ],
             [
              0.2222222222222222,
              "#7201a8"
             ],
             [
              0.3333333333333333,
              "#9c179e"
             ],
             [
              0.4444444444444444,
              "#bd3786"
             ],
             [
              0.5555555555555556,
              "#d8576b"
             ],
             [
              0.6666666666666666,
              "#ed7953"
             ],
             [
              0.7777777777777778,
              "#fb9f3a"
             ],
             [
              0.8888888888888888,
              "#fdca26"
             ],
             [
              1,
              "#f0f921"
             ]
            ],
            "type": "surface"
           }
          ],
          "table": [
           {
            "cells": {
             "fill": {
              "color": "#EBF0F8"
             },
             "line": {
              "color": "white"
             }
            },
            "header": {
             "fill": {
              "color": "#C8D4E3"
             },
             "line": {
              "color": "white"
             }
            },
            "type": "table"
           }
          ]
         },
         "layout": {
          "annotationdefaults": {
           "arrowcolor": "#2a3f5f",
           "arrowhead": 0,
           "arrowwidth": 1
          },
          "autotypenumbers": "strict",
          "coloraxis": {
           "colorbar": {
            "outlinewidth": 0,
            "ticks": ""
           }
          },
          "colorscale": {
           "diverging": [
            [
             0,
             "#8e0152"
            ],
            [
             0.1,
             "#c51b7d"
            ],
            [
             0.2,
             "#de77ae"
            ],
            [
             0.3,
             "#f1b6da"
            ],
            [
             0.4,
             "#fde0ef"
            ],
            [
             0.5,
             "#f7f7f7"
            ],
            [
             0.6,
             "#e6f5d0"
            ],
            [
             0.7,
             "#b8e186"
            ],
            [
             0.8,
             "#7fbc41"
            ],
            [
             0.9,
             "#4d9221"
            ],
            [
             1,
             "#276419"
            ]
           ],
           "sequential": [
            [
             0,
             "#0d0887"
            ],
            [
             0.1111111111111111,
             "#46039f"
            ],
            [
             0.2222222222222222,
             "#7201a8"
            ],
            [
             0.3333333333333333,
             "#9c179e"
            ],
            [
             0.4444444444444444,
             "#bd3786"
            ],
            [
             0.5555555555555556,
             "#d8576b"
            ],
            [
             0.6666666666666666,
             "#ed7953"
            ],
            [
             0.7777777777777778,
             "#fb9f3a"
            ],
            [
             0.8888888888888888,
             "#fdca26"
            ],
            [
             1,
             "#f0f921"
            ]
           ],
           "sequentialminus": [
            [
             0,
             "#0d0887"
            ],
            [
             0.1111111111111111,
             "#46039f"
            ],
            [
             0.2222222222222222,
             "#7201a8"
            ],
            [
             0.3333333333333333,
             "#9c179e"
            ],
            [
             0.4444444444444444,
             "#bd3786"
            ],
            [
             0.5555555555555556,
             "#d8576b"
            ],
            [
             0.6666666666666666,
             "#ed7953"
            ],
            [
             0.7777777777777778,
             "#fb9f3a"
            ],
            [
             0.8888888888888888,
             "#fdca26"
            ],
            [
             1,
             "#f0f921"
            ]
           ]
          },
          "colorway": [
           "#636efa",
           "#EF553B",
           "#00cc96",
           "#ab63fa",
           "#FFA15A",
           "#19d3f3",
           "#FF6692",
           "#B6E880",
           "#FF97FF",
           "#FECB52"
          ],
          "font": {
           "color": "#2a3f5f"
          },
          "geo": {
           "bgcolor": "white",
           "lakecolor": "white",
           "landcolor": "#E5ECF6",
           "showlakes": true,
           "showland": true,
           "subunitcolor": "white"
          },
          "hoverlabel": {
           "align": "left"
          },
          "hovermode": "closest",
          "mapbox": {
           "style": "light"
          },
          "paper_bgcolor": "white",
          "plot_bgcolor": "#E5ECF6",
          "polar": {
           "angularaxis": {
            "gridcolor": "white",
            "linecolor": "white",
            "ticks": ""
           },
           "bgcolor": "#E5ECF6",
           "radialaxis": {
            "gridcolor": "white",
            "linecolor": "white",
            "ticks": ""
           }
          },
          "scene": {
           "xaxis": {
            "backgroundcolor": "#E5ECF6",
            "gridcolor": "white",
            "gridwidth": 2,
            "linecolor": "white",
            "showbackground": true,
            "ticks": "",
            "zerolinecolor": "white"
           },
           "yaxis": {
            "backgroundcolor": "#E5ECF6",
            "gridcolor": "white",
            "gridwidth": 2,
            "linecolor": "white",
            "showbackground": true,
            "ticks": "",
            "zerolinecolor": "white"
           },
           "zaxis": {
            "backgroundcolor": "#E5ECF6",
            "gridcolor": "white",
            "gridwidth": 2,
            "linecolor": "white",
            "showbackground": true,
            "ticks": "",
            "zerolinecolor": "white"
           }
          },
          "shapedefaults": {
           "line": {
            "color": "#2a3f5f"
           }
          },
          "ternary": {
           "aaxis": {
            "gridcolor": "white",
            "linecolor": "white",
            "ticks": ""
           },
           "baxis": {
            "gridcolor": "white",
            "linecolor": "white",
            "ticks": ""
           },
           "bgcolor": "#E5ECF6",
           "caxis": {
            "gridcolor": "white",
            "linecolor": "white",
            "ticks": ""
           }
          },
          "title": {
           "x": 0.05
          },
          "xaxis": {
           "automargin": true,
           "gridcolor": "white",
           "linecolor": "white",
           "ticks": "",
           "title": {
            "standoff": 15
           },
           "zerolinecolor": "white",
           "zerolinewidth": 2
          },
          "yaxis": {
           "automargin": true,
           "gridcolor": "white",
           "linecolor": "white",
           "ticks": "",
           "title": {
            "standoff": 15
           },
           "zerolinecolor": "white",
           "zerolinewidth": 2
          }
         }
        },
        "title": {
         "text": "Portion of missing data per column (fraction)"
        },
        "xaxis": {
         "anchor": "y",
         "domain": [
          0,
          1
         ],
         "title": {
          "text": "column"
         }
        },
        "yaxis": {
         "anchor": "x",
         "domain": [
          0,
          1
         ],
         "title": {
          "text": "Fraction Missing"
         }
        }
       }
      }
     },
     "metadata": {},
     "output_type": "display_data"
    }
   ],
   "source": [
    "missing = data.isna().mean().reset_index()\n",
    "missing.columns = ['column','missing_fraction']\n",
    "\n",
    "fig = px.bar(missing.sort_values('missing_fraction', ascending=False),\n",
    "             x='column', y='missing_fraction',\n",
    "             title='Portion of missing data per column (fraction)',\n",
    "             labels={'missing_fraction':'Fraction Missing'})\n",
    "fig.show()"
   ]
  },
  {
   "cell_type": "code",
   "execution_count": 16,
   "id": "2fdc1404",
   "metadata": {},
   "outputs": [
    {
     "data": {
      "text/plain": [
       "np.int64(0)"
      ]
     },
     "execution_count": 16,
     "metadata": {},
     "output_type": "execute_result"
    }
   ],
   "source": [
    "# Check for duplicates\n",
    "data.duplicated().sum()"
   ]
  },
  {
   "cell_type": "markdown",
   "id": "f4fc26a3",
   "metadata": {},
   "source": [
    "**Check the proportion of values originating from the different millesimes**"
   ]
  },
  {
   "cell_type": "code",
   "execution_count": 11,
   "id": "cea8ab58",
   "metadata": {},
   "outputs": [
    {
     "name": "stdout",
     "output_type": "stream",
     "text": [
      "Possible millesimes for population : [2016 2017 2018 2019 2020 2021 2022]\n",
      "Possible millesimes for accomodation : [2016 2017 2018 2019 2020 2021]\n"
     ]
    }
   ],
   "source": [
    "print(\"Possible millesimes for population : {}\".format(data['insee_pop_millesime'].unique()))\n",
    "print(\"Possible millesimes for accomodation : {}\".format(data['insee_log_millesime'].unique()))"
   ]
  },
  {
   "cell_type": "code",
   "execution_count": 14,
   "id": "ba622d48",
   "metadata": {},
   "outputs": [
    {
     "name": "stdout",
     "output_type": "stream",
     "text": [
      "==================================================\n",
      "MILLESIMES ANALYSIS\n",
      "==================================================\n",
      "\n",
      "📊 POPULATION MILLESIMES\n",
      "Available years: [np.int64(2016), np.int64(2017), np.int64(2018), np.int64(2019), np.int64(2020), np.int64(2021), np.int64(2022)]\n",
      "------------------------------\n",
      "2016: 1,800 records (11.0%)\n",
      "2017: 1,962 records (12.0%)\n",
      "2018: 1,800 records (11.0%)\n",
      "2019: 1,800 records (11.0%)\n",
      "2020: 1,800 records (11.0%)\n",
      "2021: 1,800 records (11.0%)\n",
      "2022: 5,400 records (33.0%)\n",
      "\n",
      "🏠 ACCOMMODATION MILLESIMES\n",
      "Available years: [np.int64(2016), np.int64(2017), np.int64(2018), np.int64(2019), np.int64(2020), np.int64(2021)]\n",
      "------------------------------\n",
      "2016: 1,800 records (11.0%)\n",
      "2017: 1,962 records (12.0%)\n",
      "2018: 1,800 records (11.0%)\n",
      "2019: 1,800 records (11.0%)\n",
      "2020: 1,800 records (11.0%)\n",
      "2021: 7,200 records (44.0%)\n",
      "\n",
      "==================================================\n",
      "Total records: 16,362\n"
     ]
    }
   ],
   "source": [
    "# Analysis of millesimes distribution\n",
    "print(\"=\" * 50)\n",
    "print(\"MILLESIMES ANALYSIS\")\n",
    "print(\"=\" * 50)\n",
    "\n",
    "# Population millesimes analysis\n",
    "pop_millesimes = data['insee_pop_millesime'].unique()\n",
    "print(f\"\\n📊 POPULATION MILLESIMES\")\n",
    "print(f\"Available years: {sorted(pop_millesimes)}\")\n",
    "print(\"-\" * 30)\n",
    "\n",
    "for year in sorted(pop_millesimes):\n",
    "    count = (data['insee_pop_millesime'] == year).sum()\n",
    "    percentage = (count / len(data)) * 100\n",
    "    print(f\"{year}: {count:,} records ({percentage:.1f}%)\")\n",
    "\n",
    "# Accommodation millesimes analysis\n",
    "log_millesimes = data['insee_log_millesime'].unique()\n",
    "print(f\"\\n🏠 ACCOMMODATION MILLESIMES\")\n",
    "print(f\"Available years: {sorted(log_millesimes)}\")\n",
    "print(\"-\" * 30)\n",
    "\n",
    "for year in sorted(log_millesimes):\n",
    "    count = (data['insee_log_millesime'] == year).sum()\n",
    "    percentage = (count / len(data)) * 100\n",
    "    print(f\"{year}: {count:,} records ({percentage:.1f}%)\")\n",
    "\n",
    "print(\"\\n\" + \"=\" * 50)\n",
    "print(f\"Total records: {len(data):,}\")"
   ]
  },
  {
   "cell_type": "code",
   "execution_count": 22,
   "id": "0db5a750",
   "metadata": {},
   "outputs": [
    {
     "name": "stdout",
     "output_type": "stream",
     "text": [
      "Number of dpts : 101. They are : ['01' '02' '03' '04' '05' '06' '07' '08' '09' '10' '11' '12' '13' '14'\n",
      " '15' '16' '17' '18' '19' '21' '22' '23' '24' '25' '26' '27' '28' '29'\n",
      " '2A' '2B' '30' '31' '32' '33' '34' '35' '36' '37' '38' '39' '40' '41'\n",
      " '42' '43' '44' '45' '46' '47' '48' '49' '50' '51' '52' '53' '54' '55'\n",
      " '56' '57' '58' '59' '60' '61' '62' '63' '64' '65' '66' '67' '68' '69'\n",
      " '70' '71' '72' '73' '74' '75' '76' '77' '78' '79' '80' '81' '82' '83'\n",
      " '84' '85' '86' '87' '88' '89' '90' '91' '92' '93' '94' '95' '971' '972'\n",
      " '973' '974' '976']\n"
     ]
    }
   ],
   "source": [
    "print(\"Number of dpts : {}. They are : {}\".format(data['Code_departement'].nunique(), data['Code_departement'].unique()))"
   ]
  },
  {
   "cell_type": "code",
   "execution_count": 23,
   "id": "009e96af",
   "metadata": {},
   "outputs": [
    {
     "name": "stdout",
     "output_type": "stream",
     "text": [
      "Number of regions : 18. They are : [84 32 93 44 76 28 75 24 27 53 94 52 11  1  2  3  4  6]\n"
     ]
    }
   ],
   "source": [
    "print(\"Number of regions : {}. They are : {}\".format(data['Code_region'].nunique(), data['Code_region'].unique()))"
   ]
  },
  {
   "cell_type": "code",
   "execution_count": 24,
   "id": "d30a240c",
   "metadata": {},
   "outputs": [
    {
     "data": {
      "text/plain": [
       "Index(['Code_departement', 'Code_region', 'annee', 'indicateur',\n",
       "       'unite_de_compte', 'nombre', 'taux_pour_mille', 'insee_pop',\n",
       "       'insee_pop_millesime', 'insee_log', 'insee_log_millesime',\n",
       "       'taux_pour_mille_numeric'],\n",
       "      dtype='object')"
      ]
     },
     "execution_count": 24,
     "metadata": {},
     "output_type": "execute_result"
    }
   ],
   "source": [
    "data.columns"
   ]
  },
  {
   "cell_type": "code",
   "execution_count": 25,
   "id": "9ec37a73",
   "metadata": {},
   "outputs": [
    {
     "data": {
      "text/plain": [
       "array(['Victime', 'Infraction', 'Victime entendue', 'Véhicule',\n",
       "       'Mis en cause'], dtype=object)"
      ]
     },
     "execution_count": 25,
     "metadata": {},
     "output_type": "execute_result"
    }
   ],
   "source": [
    "data['unite_de_compte'].unique()"
   ]
  },
  {
   "cell_type": "code",
   "execution_count": 30,
   "id": "d6fb13b0",
   "metadata": {},
   "outputs": [
    {
     "data": {
      "text/plain": [
       "18"
      ]
     },
     "execution_count": 30,
     "metadata": {},
     "output_type": "execute_result"
    }
   ],
   "source": [
    "data['Code_region'].nunique()"
   ]
  },
  {
   "cell_type": "code",
   "execution_count": 38,
   "id": "4bf67f9c",
   "metadata": {},
   "outputs": [
    {
     "data": {
      "text/html": [
       "<div>\n",
       "<style scoped>\n",
       "    .dataframe tbody tr th:only-of-type {\n",
       "        vertical-align: middle;\n",
       "    }\n",
       "\n",
       "    .dataframe tbody tr th {\n",
       "        vertical-align: top;\n",
       "    }\n",
       "\n",
       "    .dataframe thead th {\n",
       "        text-align: right;\n",
       "    }\n",
       "</style>\n",
       "<table border=\"1\" class=\"dataframe\">\n",
       "  <thead>\n",
       "    <tr style=\"text-align: right;\">\n",
       "      <th></th>\n",
       "      <th>annee</th>\n",
       "      <th>indicateur</th>\n",
       "      <th>count</th>\n",
       "      <th>nombre</th>\n",
       "    </tr>\n",
       "  </thead>\n",
       "  <tbody>\n",
       "    <tr>\n",
       "      <th>0</th>\n",
       "      <td>2016</td>\n",
       "      <td>Cambriolages de logement</td>\n",
       "      <td>101</td>\n",
       "      <td>248887</td>\n",
       "    </tr>\n",
       "    <tr>\n",
       "      <th>1</th>\n",
       "      <td>2016</td>\n",
       "      <td>Destructions et dégradations volontaires</td>\n",
       "      <td>101</td>\n",
       "      <td>626565</td>\n",
       "    </tr>\n",
       "    <tr>\n",
       "      <th>2</th>\n",
       "      <td>2016</td>\n",
       "      <td>Escroqueries et fraudes aux moyens de paiement</td>\n",
       "      <td>101</td>\n",
       "      <td>249477</td>\n",
       "    </tr>\n",
       "    <tr>\n",
       "      <th>3</th>\n",
       "      <td>2016</td>\n",
       "      <td>Homicides</td>\n",
       "      <td>101</td>\n",
       "      <td>911</td>\n",
       "    </tr>\n",
       "    <tr>\n",
       "      <th>4</th>\n",
       "      <td>2016</td>\n",
       "      <td>Tentatives d'homicide</td>\n",
       "      <td>101</td>\n",
       "      <td>2259</td>\n",
       "    </tr>\n",
       "    <tr>\n",
       "      <th>...</th>\n",
       "      <td>...</td>\n",
       "      <td>...</td>\n",
       "      <td>...</td>\n",
       "      <td>...</td>\n",
       "    </tr>\n",
       "    <tr>\n",
       "      <th>157</th>\n",
       "      <td>2024</td>\n",
       "      <td>Vols d'accessoires sur véhicules</td>\n",
       "      <td>101</td>\n",
       "      <td>96053</td>\n",
       "    </tr>\n",
       "    <tr>\n",
       "      <th>158</th>\n",
       "      <td>2024</td>\n",
       "      <td>Vols dans les véhicules</td>\n",
       "      <td>101</td>\n",
       "      <td>256060</td>\n",
       "    </tr>\n",
       "    <tr>\n",
       "      <th>159</th>\n",
       "      <td>2024</td>\n",
       "      <td>Vols de véhicule</td>\n",
       "      <td>101</td>\n",
       "      <td>137580</td>\n",
       "    </tr>\n",
       "    <tr>\n",
       "      <th>160</th>\n",
       "      <td>2024</td>\n",
       "      <td>Vols sans violence contre des personnes</td>\n",
       "      <td>101</td>\n",
       "      <td>607772</td>\n",
       "    </tr>\n",
       "    <tr>\n",
       "      <th>161</th>\n",
       "      <td>2024</td>\n",
       "      <td>Vols violents sans arme</td>\n",
       "      <td>101</td>\n",
       "      <td>48292</td>\n",
       "    </tr>\n",
       "  </tbody>\n",
       "</table>\n",
       "<p>162 rows × 4 columns</p>\n",
       "</div>"
      ],
      "text/plain": [
       "     annee                                      indicateur  count  nombre\n",
       "0     2016                        Cambriolages de logement    101  248887\n",
       "1     2016        Destructions et dégradations volontaires    101  626565\n",
       "2     2016  Escroqueries et fraudes aux moyens de paiement    101  249477\n",
       "3     2016                                       Homicides    101     911\n",
       "4     2016                           Tentatives d'homicide    101    2259\n",
       "..     ...                                             ...    ...     ...\n",
       "157   2024                Vols d'accessoires sur véhicules    101   96053\n",
       "158   2024                         Vols dans les véhicules    101  256060\n",
       "159   2024                                Vols de véhicule    101  137580\n",
       "160   2024         Vols sans violence contre des personnes    101  607772\n",
       "161   2024                         Vols violents sans arme    101   48292\n",
       "\n",
       "[162 rows x 4 columns]"
      ]
     },
     "execution_count": 38,
     "metadata": {},
     "output_type": "execute_result"
    }
   ],
   "source": [
    "yearly_trends = data.groupby(['annee', 'indicateur']).size().reset_index(name='count')\n",
    "yearly_trends['nombre'] = data.groupby(['annee', 'indicateur'])['nombre'].sum().values\n",
    "\n",
    "\n",
    "yearly_trends"
   ]
  }
 ],
 "metadata": {
  "kernelspec": {
   "display_name": "venv",
   "language": "python",
   "name": "python3"
  },
  "language_info": {
   "codemirror_mode": {
    "name": "ipython",
    "version": 3
   },
   "file_extension": ".py",
   "mimetype": "text/x-python",
   "name": "python",
   "nbconvert_exporter": "python",
   "pygments_lexer": "ipython3",
   "version": "3.12.7"
  }
 },
 "nbformat": 4,
 "nbformat_minor": 5
}
